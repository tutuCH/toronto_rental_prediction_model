{
 "cells": [
  {
   "cell_type": "code",
   "execution_count": 224,
   "id": "c65bd560",
   "metadata": {},
   "outputs": [],
   "source": [
    "import os\n",
    "os.environ['TF_CPP_MIN_LOG_LEVEL'] = '2'\n",
    "import tensorflow as tf\n",
    "import pandas as pd\n",
    "import matplotlib.pyplot as plt\n",
    "from sklearn.model_selection import train_test_split\n",
    "from sklearn.compose import make_column_transformer\n",
    "from sklearn.preprocessing import MinMaxScaler, OneHotEncoder"
   ]
  },
  {
   "cell_type": "code",
   "execution_count": 229,
   "id": "d35c1a85",
   "metadata": {},
   "outputs": [
    {
     "name": "stdout",
     "output_type": "stream",
     "text": [
      "   Bedroom  Bathroom  Den        Lat       Long\n",
      "0        2       2.0    0  43.581639 -79.648193\n",
      "1        1       1.0    1  43.643051 -79.391643\n",
      "2        1       1.0    0  43.660605 -79.378635\n",
      "3        2       2.0    0  43.641087 -79.381405\n",
      "4        1       1.0    0  43.652487 -79.389622\n"
     ]
    }
   ],
   "source": [
    "rental = pd.read_csv(\"./Toronto_apartment_rentals_2018.csv\")\n",
    "X = rental.drop([\"Price\", \"Address\"], axis=1)\n",
    "y = rental[\"Price\"].str.replace('$', '', regex=True).str.replace(',', '', regex=True)\n",
    "y = y.astype(float)\n",
    "train_data, test_data, train_labels, test_labels = train_test_split(X, y, test_size=0.05, random_state=42)\n",
    "print(X.head())"
   ]
  },
  {
   "cell_type": "code",
   "execution_count": 230,
   "id": "29fe64c7",
   "metadata": {},
   "outputs": [],
   "source": [
    "column_tranform = make_column_transformer(\n",
    "    (MinMaxScaler(), [\"Bedroom\",\"Bathroom\",\"Den\",\"Lat\",\"Long\"]), #turn all values in these column between 0 and 1\n",
    ")\n"
   ]
  },
  {
   "cell_type": "code",
   "execution_count": 235,
   "id": "bdd094ef",
   "metadata": {},
   "outputs": [
    {
     "name": "stdout",
     "output_type": "stream",
     "text": [
      "Epoch 1/10\n",
      "34/34 [==============================] - 0s 750us/step - loss: 3708.0017 - mae: 3708.0017\n",
      "Epoch 2/10\n",
      "34/34 [==============================] - 0s 716us/step - loss: 3705.3284 - mae: 3705.3284\n",
      "Epoch 3/10\n",
      "34/34 [==============================] - 0s 2ms/step - loss: 3692.2336 - mae: 3692.2336\n",
      "Epoch 4/10\n",
      "34/34 [==============================] - 0s 987us/step - loss: 3644.9854 - mae: 3644.9854\n",
      "Epoch 5/10\n",
      "34/34 [==============================] - 0s 799us/step - loss: 3518.0972 - mae: 3518.0972\n",
      "Epoch 6/10\n",
      "34/34 [==============================] - 0s 778us/step - loss: 3243.4719 - mae: 3243.4719\n",
      "Epoch 7/10\n",
      "34/34 [==============================] - 0s 767us/step - loss: 2731.5317 - mae: 2731.5317\n",
      "Epoch 8/10\n",
      "34/34 [==============================] - 0s 747us/step - loss: 2139.9563 - mae: 2139.9563\n",
      "Epoch 9/10\n",
      "34/34 [==============================] - 0s 779us/step - loss: 2001.6471 - mae: 2001.6471\n",
      "Epoch 10/10\n",
      "34/34 [==============================] - 0s 772us/step - loss: 1990.9037 - mae: 1990.9037\n"
     ]
    }
   ],
   "source": [
    "column_tranform.fit(train_data)\n",
    "\n",
    "train_data_normal = column_tranform.transform(train_data)\n",
    "test_data_normal = column_tranform.transform(test_data)\n",
    "\n",
    "tf.random.set_seed(42)\n",
    "\n",
    "model = tf.keras.Sequential([\n",
    "    tf.keras.layers.Dense(100, activation=tf.nn.relu),\n",
    "    tf.keras.layers.Dense(50, activation=tf.nn.relu),    \n",
    "    tf.keras.layers.Dense(10, activation=tf.nn.relu),\n",
    "    tf.keras.layers.Dense(1)\n",
    "])\n",
    "\n",
    "model.compile(\n",
    "    loss=tf.keras.losses.mae,\n",
    "    optimizer=tf.keras.optimizers.Adam(),\n",
    "    metrics=[\"mae\"]\n",
    ")\n",
    "\n",
    "records = model.fit(train_data_normal, train_labels, epochs=10)"
   ]
  },
  {
   "cell_type": "code",
   "execution_count": 237,
   "id": "24c24e60",
   "metadata": {},
   "outputs": [
    {
     "name": "stdout",
     "output_type": "stream",
     "text": [
      "2/2 [==============================] - 0s 2ms/step - loss: 672.2838 - mae: 672.2838\n",
      "1/1 [==============================] - 0s 28ms/step\n",
      "[[1707.2488]]\n"
     ]
    },
    {
     "data": {
      "image/png": "[encoded data removed]",
      "text/plain": [
       "<Figure size 640x480 with 1 Axes>"
      ]
     },
     "metadata": {},
     "output_type": "display_data"
    }
   ],
   "source": [
    "test_loss = model.evaluate(test_data, test_labels)\n",
    "# new_data = [[3, 2, 1, 40.72, -74.00]]\n",
    "new_data = [[2, 2, 0, 43.6460058, -79.3899085]]\n",
    "# new_data = scaler.transform(new_data)\n",
    "pd.DataFrame(records.history).plot()\n",
    "prediction = model.predict(new_data)\n",
    "print(prediction)"
   ]
  },
  {
   "cell_type": "code",
   "execution_count": 238,
   "id": "305002f9",
   "metadata": {},
   "outputs": [],
   "source": [
    "model.save(\"toronto_rental_prediction_v1.h5\")"
   ]
  }
 ],
 "metadata": {
  "kernelspec": {
   "display_name": "Python 3 (ipykernel)",
   "language": "python",
   "name": "python3"
  },
  "language_info": {
   "codemirror_mode": {
    "name": "ipython",
    "version": 3
   },
   "file_extension": ".py",
   "mimetype": "text/x-python",
   "name": "python",
   "nbconvert_exporter": "python",
   "pygments_lexer": "ipython3",
   "version": "3.9.16"
  }
 },
 "nbformat": 4,
 "nbformat_minor": 5
}
